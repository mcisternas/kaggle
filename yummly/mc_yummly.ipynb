{
 "cells": [
  {
   "cell_type": "markdown",
   "metadata": {},
   "source": [
    "# <img src=https://kaggle2.blob.core.windows.net/competitions/kaggle/4526/logos/front_page.png width=200 align=\"left\">\n",
    "\n",
    "### What's cooking? \n",
    "Use recipe ingredients to categorize the cuisine, dataset provided by [Yummly](http://www.yummly.com/)\n",
    "\n",
    "More info: [kaggle competition webpage](https://www.kaggle.com/c/whats-cooking)"
   ]
  },
  {
   "cell_type": "code",
   "execution_count": 15,
   "metadata": {
    "collapsed": false
   },
   "outputs": [],
   "source": [
    "import pandas as pd\n",
    "import re\n",
    "import sklearn.feature_extraction.text\n",
    "import sklearn.ensemble\n",
    "import sklearn.cross_validation\n",
    "import sklearn.naive_bayes\n",
    "from nltk.stem import WordNetLemmatizer\n",
    "\n",
    "traindf_full = pd.read_json(\"train.json\")\n",
    "\n",
    "#sample training set? False: use the whole data set, otherwise, input a fraction to use (value from 0-1)\n",
    "sample_training=False\n",
    "\n",
    "if sample_training:\n",
    "    traindf = traindf_full.sample(frac=sample_training)\n",
    "else:\n",
    "    traindf = traindf_full\n",
    "\n",
    "testdf = pd.read_json(\"test.json\")"
   ]
  },
  {
   "cell_type": "code",
   "execution_count": 16,
   "metadata": {
    "collapsed": false
   },
   "outputs": [
    {
     "data": {
      "text/html": [
       "<div>\n",
       "<table border=\"1\" class=\"dataframe\">\n",
       "  <thead>\n",
       "    <tr style=\"text-align: right;\">\n",
       "      <th></th>\n",
       "      <th>cuisine</th>\n",
       "      <th>id</th>\n",
       "      <th>ingredients</th>\n",
       "      <th>ingredients_string</th>\n",
       "    </tr>\n",
       "  </thead>\n",
       "  <tbody>\n",
       "    <tr>\n",
       "      <th>0</th>\n",
       "      <td>greek</td>\n",
       "      <td>10259</td>\n",
       "      <td>[romaine lettuce, black olives, grape tomatoes...</td>\n",
       "      <td>romaine lettuce black olives grape tomatoes ga...</td>\n",
       "    </tr>\n",
       "    <tr>\n",
       "      <th>1</th>\n",
       "      <td>southern_us</td>\n",
       "      <td>25693</td>\n",
       "      <td>[plain flour, ground pepper, salt, tomatoes, g...</td>\n",
       "      <td>plain flour ground pepper salt tomato ground b...</td>\n",
       "    </tr>\n",
       "    <tr>\n",
       "      <th>2</th>\n",
       "      <td>filipino</td>\n",
       "      <td>20130</td>\n",
       "      <td>[eggs, pepper, salt, mayonaise, cooking oil, g...</td>\n",
       "      <td>egg pepper salt mayonaise cooking oil green ch...</td>\n",
       "    </tr>\n",
       "    <tr>\n",
       "      <th>3</th>\n",
       "      <td>indian</td>\n",
       "      <td>22213</td>\n",
       "      <td>[water, vegetable oil, wheat, salt]</td>\n",
       "      <td>water vegetable oil wheat salt</td>\n",
       "    </tr>\n",
       "    <tr>\n",
       "      <th>4</th>\n",
       "      <td>indian</td>\n",
       "      <td>13162</td>\n",
       "      <td>[black pepper, shallots, cornflour, cayenne pe...</td>\n",
       "      <td>black pepper shallot cornflour cayenne pepper ...</td>\n",
       "    </tr>\n",
       "  </tbody>\n",
       "</table>\n",
       "</div>"
      ],
      "text/plain": [
       "       cuisine     id                                        ingredients  \\\n",
       "0        greek  10259  [romaine lettuce, black olives, grape tomatoes...   \n",
       "1  southern_us  25693  [plain flour, ground pepper, salt, tomatoes, g...   \n",
       "2     filipino  20130  [eggs, pepper, salt, mayonaise, cooking oil, g...   \n",
       "3       indian  22213                [water, vegetable oil, wheat, salt]   \n",
       "4       indian  13162  [black pepper, shallots, cornflour, cayenne pe...   \n",
       "\n",
       "                                  ingredients_string  \n",
       "0  romaine lettuce black olives grape tomatoes ga...  \n",
       "1  plain flour ground pepper salt tomato ground b...  \n",
       "2  egg pepper salt mayonaise cooking oil green ch...  \n",
       "3                     water vegetable oil wheat salt  \n",
       "4  black pepper shallot cornflour cayenne pepper ...  "
      ]
     },
     "execution_count": 16,
     "metadata": {},
     "output_type": "execute_result"
    }
   ],
   "source": [
    "#Simple version\n",
    "#traindf['ingredients_string'] = [' '.join(ingredient).strip() for ingredient in traindf['ingredients']]\n",
    "#testdf['ingredients_string'] = [' '.join(ingredient).strip() for ingredient in testdf['ingredients']]\n",
    "\n",
    "#Fancier version: apply a word lemmatizer\n",
    "traindf['ingredients_string'] = [' '.join([WordNetLemmatizer().lemmatize(re.sub('[^A-Za-z]', ' ', line)) for line in lists]).strip() for lists in traindf['ingredients']]\n",
    "testdf['ingredients_string'] = [' '.join([WordNetLemmatizer().lemmatize(re.sub('[^A-Za-z]', ' ', line)) for line in lists]).strip() for lists in testdf['ingredients']]\n",
    "\n",
    "\n",
    "traindf.head()"
   ]
  },
  {
   "cell_type": "code",
   "execution_count": 17,
   "metadata": {
    "collapsed": false
   },
   "outputs": [],
   "source": [
    "# Train\n",
    "corpus_train = traindf['ingredients_string']\n",
    "vectorizer_train = sklearn.feature_extraction.text.TfidfVectorizer(stop_words='english', \\\n",
    "                                                        max_df = .6, binary=False, ngram_range = ( 1, 1),analyzer=\"word\")\n",
    "tfidf_train = vectorizer_train.fit_transform(corpus_train).todense()\n",
    "X_train = tfidf_train\n",
    "y_train = traindf['cuisine']\n",
    "\n",
    "# Test\n",
    "corpus_test = testdf['ingredients_string']\n",
    "\n",
    "tfidf_test = vectorizer_train.transform(corpus_test).todense()\n",
    "X_test = tfidf_test"
   ]
  },
  {
   "cell_type": "code",
   "execution_count": 18,
   "metadata": {
    "collapsed": false
   },
   "outputs": [
    {
     "name": "stdout",
     "output_type": "stream",
     "text": [
      "Doing grid search for LinearSVC\n",
      "Best parameters: {'C': 0.4}\n",
      "CV Accuracy: 0.7906 (+/- 0.0047) LinearSVC\n"
     ]
    }
   ],
   "source": [
    "#Dicts with classifiers and their parameters for Grid Search CV\n",
    "\n",
    "classifiers = {\n",
    "    #'Logistic Regression': sklearn.linear_model.LogisticRegression(),\n",
    "    #'Random Forests': sklearn.ensemble.RandomForestClassifier(n_estimators=500),\n",
    "    #'SVC': sklearn.svm.SVC(C=1.0, kernel='linear', probability=False),\n",
    "    'LinearSVC': sklearn.svm.LinearSVC(),\n",
    "    #'MultinomialNB': sklearn.naive_bayes.BernoulliNB(),\n",
    "    #'Gradient Boosting': sklearn.ensemble.GradientBoostingClassifier(n_estimators=10, learning_rate=0.1, max_depth=2),\n",
    "}\n",
    "\n",
    "classifiers_gridparameters = {\n",
    "    'Logistic Regression': None,\n",
    "    'Random Forests': None,\n",
    "    'SVC': [{'kernel': ['linear'], 'C': [0.2, 0.4, 0.6, 0.8, 1.0]}],\n",
    "    'LinearSVC': {'C': [0.2, 0.4, 0.6, 0.8, 1.0, 10]},\n",
    "    'MultinomialNB': None,\n",
    "    'Gradient Boosting': None,\n",
    "    #'Gradient Boosting': {\"n_estimators\": [10, 50, 100], 'learning_rate': [0.1, 0.2, 0.3, 0.5], 'max_depth': [1, 2, 4],},\n",
    "}\n",
    "\n",
    "for clf_name, clf_notoptimized in classifiers.iteritems():\n",
    "    \n",
    "    skf = sklearn.cross_validation.StratifiedKFold(y_train, n_folds=5)\n",
    "\n",
    "    param_grid = classifiers_gridparameters[clf_name]\n",
    "    \n",
    "    if param_grid is None:\n",
    "        print \"Skipping grid search for %s\" %clf_name\n",
    "        clf_fitted = clf_notoptimized.fit(X_train, y_train)\n",
    "    else:\n",
    "        print \"Doing grid search for %s\" %clf_name\n",
    "        clf = sklearn.grid_search.GridSearchCV(estimator=clf_notoptimized, param_grid=param_grid, cv=skf, scoring='accuracy')\n",
    "        clf_fitted = clf.fit(X_train, y_train).best_estimator_\n",
    "        clf_optimal_params = clf.best_params_\n",
    "        print \"Best parameters:\", clf_optimal_params\n",
    "    \n",
    "    scores = sklearn.cross_validation.cross_val_score(clf_fitted, X_train, y_train, cv=skf, scoring='accuracy')\n",
    "    print(\"CV Accuracy: %0.4f (+/- %0.4f) %s\" % (scores.mean(), scores.std(), clf_name))"
   ]
  },
  {
   "cell_type": "code",
   "execution_count": 19,
   "metadata": {
    "collapsed": false
   },
   "outputs": [],
   "source": [
    "y_pred = clf_fitted.predict(X_test)\n",
    "testdf['cuisine'] = y_pred\n",
    "\n",
    "testdf = testdf.sort_values(by='id' , ascending=True)\n",
    "testdf[['id' , 'cuisine' ]].to_csv(\"yummly_submission.csv\", index=False)"
   ]
  },
  {
   "cell_type": "code",
   "execution_count": null,
   "metadata": {
    "collapsed": true
   },
   "outputs": [],
   "source": []
  }
 ],
 "metadata": {
  "kernelspec": {
   "display_name": "Python 2",
   "language": "python",
   "name": "python2"
  },
  "language_info": {
   "codemirror_mode": {
    "name": "ipython",
    "version": 2
   },
   "file_extension": ".py",
   "mimetype": "text/x-python",
   "name": "python",
   "nbconvert_exporter": "python",
   "pygments_lexer": "ipython2",
   "version": "2.7.10"
  }
 },
 "nbformat": 4,
 "nbformat_minor": 0
}
